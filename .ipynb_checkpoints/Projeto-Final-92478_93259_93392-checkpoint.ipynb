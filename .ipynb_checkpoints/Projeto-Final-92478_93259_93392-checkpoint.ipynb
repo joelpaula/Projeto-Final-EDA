{
 "cells": [
  {
   "cell_type": "markdown",
   "metadata": {},
   "source": [
    "<p style=\"font-size: xx-large; font-weight:bold;\">Projeto-Final-EDA</p>\n",
    "\n",
    ">**Unidade curricular | Course Unit** Estrutura de Dados e Algoritmos | Data Structures and Algorithms\n",
    ">\n",
    ">**Professor** Luis Ramada Pereira\n",
    ">\n",
    ">**Curso|Course** LCD-PL -- **Ano letivo|Year** 2019/2020\n",
    ">\n",
    ">**Autores|Authors**\n",
    ">\n",
    ">     | Catarina Castanheira | nº 92478 |\n",
    ">     | João Martins         | nº 93259 |\n",
    ">     | Joel Paula           | nº 93393 |\n",
    ">\n",
    ">\n",
    ">27-05-2020"
   ]
  },
  {
   "cell_type": "markdown",
   "metadata": {},
   "source": [
    "# Introdução"
   ]
  },
  {
   "cell_type": "markdown",
   "metadata": {},
   "source": [
    "to be done"
   ]
  },
  {
   "cell_type": "markdown",
   "metadata": {},
   "source": [
    "# Metodologia"
   ]
  },
  {
   "cell_type": "markdown",
   "metadata": {},
   "source": [
    "TBD"
   ]
  },
  {
   "cell_type": "markdown",
   "metadata": {},
   "source": [
    "# Execução - Construindo o algoritmo"
   ]
  },
  {
   "cell_type": "markdown",
   "metadata": {},
   "source": [
    "## Livrarias usadas\n",
    "Neste trabalho foram utilizadas as seguintes livrarias de python:"
   ]
  },
  {
   "cell_type": "code",
   "execution_count": 41,
   "metadata": {
    "ExecuteTime": {
     "end_time": "2020-05-24T10:42:21.803088Z",
     "start_time": "2020-05-24T10:42:21.794272Z"
    }
   },
   "outputs": [],
   "source": [
    "import pandas as pd\n",
    "import numpy as np\n",
    "import matplotlib.pyplot as plt"
   ]
  },
  {
   "cell_type": "markdown",
   "metadata": {},
   "source": [
    "O Pandas é usado para importação de dados.\n",
    "O Numpy é usado para tratamento de matrizes.\n",
    "O Matplotlib para representaçã gráfica dos grafos."
   ]
  },
  {
   "cell_type": "markdown",
   "metadata": {},
   "source": [
    "## Ficheiros de dados \n",
    "Os ficheiros de dados utilizados:\n",
    "\n",
    "* [`LondonTube/london.stations.txt`](LondonTube/london.stations.txt) - contém os dados das estações\n",
    "* [`LondonTube/london.connections.txt`](LondonTube/london.connections.txt) - contém os dados das ligações entre estações\n",
    "\n",
    "Como primeiro passo, lêem-se os ficheiros, para ficar claro que dados estão ou não disponíveis."
   ]
  },
  {
   "cell_type": "code",
   "execution_count": 42,
   "metadata": {
    "ExecuteTime": {
     "end_time": "2020-05-24T10:47:16.260814Z",
     "start_time": "2020-05-24T10:47:16.178308Z"
    }
   },
   "outputs": [
    {
     "data": {
      "text/html": [
       "<div>\n",
       "<style scoped>\n",
       "    .dataframe tbody tr th:only-of-type {\n",
       "        vertical-align: middle;\n",
       "    }\n",
       "\n",
       "    .dataframe tbody tr th {\n",
       "        vertical-align: top;\n",
       "    }\n",
       "\n",
       "    .dataframe thead th {\n",
       "        text-align: right;\n",
       "    }\n",
       "</style>\n",
       "<table border=\"1\" class=\"dataframe\">\n",
       "  <thead>\n",
       "    <tr style=\"text-align: right;\">\n",
       "      <th></th>\n",
       "      <th>id</th>\n",
       "      <th>latitude</th>\n",
       "      <th>longitude</th>\n",
       "      <th>name</th>\n",
       "      <th>display_name</th>\n",
       "      <th>zone</th>\n",
       "      <th>total_lines</th>\n",
       "      <th>rail</th>\n",
       "    </tr>\n",
       "  </thead>\n",
       "  <tbody>\n",
       "    <tr>\n",
       "      <th>0</th>\n",
       "      <td>1</td>\n",
       "      <td>51.5028</td>\n",
       "      <td>-0.2801</td>\n",
       "      <td>Acton Town</td>\n",
       "      <td>ActonTown</td>\n",
       "      <td>3.0</td>\n",
       "      <td>2</td>\n",
       "      <td>0</td>\n",
       "    </tr>\n",
       "    <tr>\n",
       "      <th>1</th>\n",
       "      <td>2</td>\n",
       "      <td>51.5143</td>\n",
       "      <td>-0.0755</td>\n",
       "      <td>Aldgate</td>\n",
       "      <td>NaN</td>\n",
       "      <td>1.0</td>\n",
       "      <td>2</td>\n",
       "      <td>0</td>\n",
       "    </tr>\n",
       "    <tr>\n",
       "      <th>2</th>\n",
       "      <td>3</td>\n",
       "      <td>51.5154</td>\n",
       "      <td>-0.0726</td>\n",
       "      <td>Aldgate East</td>\n",
       "      <td>AldgateEast</td>\n",
       "      <td>1.0</td>\n",
       "      <td>2</td>\n",
       "      <td>0</td>\n",
       "    </tr>\n",
       "    <tr>\n",
       "      <th>3</th>\n",
       "      <td>4</td>\n",
       "      <td>51.5107</td>\n",
       "      <td>-0.0130</td>\n",
       "      <td>All Saints</td>\n",
       "      <td>AllSaints</td>\n",
       "      <td>2.0</td>\n",
       "      <td>1</td>\n",
       "      <td>0</td>\n",
       "    </tr>\n",
       "    <tr>\n",
       "      <th>4</th>\n",
       "      <td>5</td>\n",
       "      <td>51.5407</td>\n",
       "      <td>-0.2997</td>\n",
       "      <td>Alperton</td>\n",
       "      <td>NaN</td>\n",
       "      <td>4.0</td>\n",
       "      <td>1</td>\n",
       "      <td>0</td>\n",
       "    </tr>\n",
       "  </tbody>\n",
       "</table>\n",
       "</div>"
      ],
      "text/plain": [
       "   id  latitude  longitude          name display_name  zone  total_lines  rail\n",
       "0   1   51.5028    -0.2801    Acton Town    ActonTown   3.0            2     0\n",
       "1   2   51.5143    -0.0755       Aldgate          NaN   1.0            2     0\n",
       "2   3   51.5154    -0.0726  Aldgate East  AldgateEast   1.0            2     0\n",
       "3   4   51.5107    -0.0130    All Saints    AllSaints   2.0            1     0\n",
       "4   5   51.5407    -0.2997      Alperton          NaN   4.0            1     0"
      ]
     },
     "execution_count": 42,
     "metadata": {},
     "output_type": "execute_result"
    }
   ],
   "source": [
    "df_stations = pd.read_csv(\"LondonTube/london.stations.txt\")\n",
    "df_stations.head()"
   ]
  },
  {
   "cell_type": "code",
   "execution_count": 43,
   "metadata": {
    "ExecuteTime": {
     "end_time": "2020-05-23T18:56:58.097403Z",
     "start_time": "2020-05-23T18:56:58.074079Z"
    },
    "scrolled": true
   },
   "outputs": [
    {
     "data": {
      "text/html": [
       "<div>\n",
       "<style scoped>\n",
       "    .dataframe tbody tr th:only-of-type {\n",
       "        vertical-align: middle;\n",
       "    }\n",
       "\n",
       "    .dataframe tbody tr th {\n",
       "        vertical-align: top;\n",
       "    }\n",
       "\n",
       "    .dataframe thead th {\n",
       "        text-align: right;\n",
       "    }\n",
       "</style>\n",
       "<table border=\"1\" class=\"dataframe\">\n",
       "  <thead>\n",
       "    <tr style=\"text-align: right;\">\n",
       "      <th></th>\n",
       "      <th>station1</th>\n",
       "      <th>station2</th>\n",
       "      <th>line</th>\n",
       "      <th>time</th>\n",
       "    </tr>\n",
       "  </thead>\n",
       "  <tbody>\n",
       "    <tr>\n",
       "      <th>0</th>\n",
       "      <td>11</td>\n",
       "      <td>163</td>\n",
       "      <td>1</td>\n",
       "      <td>1</td>\n",
       "    </tr>\n",
       "    <tr>\n",
       "      <th>1</th>\n",
       "      <td>11</td>\n",
       "      <td>212</td>\n",
       "      <td>1</td>\n",
       "      <td>2</td>\n",
       "    </tr>\n",
       "    <tr>\n",
       "      <th>2</th>\n",
       "      <td>49</td>\n",
       "      <td>87</td>\n",
       "      <td>1</td>\n",
       "      <td>1</td>\n",
       "    </tr>\n",
       "    <tr>\n",
       "      <th>3</th>\n",
       "      <td>49</td>\n",
       "      <td>197</td>\n",
       "      <td>1</td>\n",
       "      <td>2</td>\n",
       "    </tr>\n",
       "    <tr>\n",
       "      <th>4</th>\n",
       "      <td>82</td>\n",
       "      <td>163</td>\n",
       "      <td>1</td>\n",
       "      <td>2</td>\n",
       "    </tr>\n",
       "  </tbody>\n",
       "</table>\n",
       "</div>"
      ],
      "text/plain": [
       "   station1  station2  line  time\n",
       "0        11       163     1     1\n",
       "1        11       212     1     2\n",
       "2        49        87     1     1\n",
       "3        49       197     1     2\n",
       "4        82       163     1     2"
      ]
     },
     "execution_count": 43,
     "metadata": {},
     "output_type": "execute_result"
    }
   ],
   "source": [
    "df_connections = pd.read_csv(\"LondonTube/london.connections.txt\")\n",
    "df_connections.head()"
   ]
  },
  {
   "cell_type": "markdown",
   "metadata": {},
   "source": [
    "## A classe de grafo\n",
    "\n",
    "Para implementação do grafo, usámos uma estrutura em mapas de adjacência. A classe mantém um dicionário de vértices e cada vértice contêm um dicionário de pares vértices adjacentes / arestas. Usámos este tipo de implementação por ter uma boa eficiência na ocupação de memória, com baixo grau de complexidade. Adicionalmente, facilita a manipulação necessária durante a execução do algoritmo. A implementação nã é completa, sendo apenas a suficiente para a execução deste projeto.\n",
    "\n",
    "Para além da classe `Graph`, que implementa o grafo, existem as classes auxiliáres `Vertex` e `Edge`, que implementam um vértice e uma aresta, respetivamente.\n",
    "Estas classes implementam os métodos mágicos `__str()__` e `__repr()__`, para facilitarem o debug rápido de estados do grafo (e do programa)."
   ]
  },
  {
   "cell_type": "code",
   "execution_count": 44,
   "metadata": {
    "ExecuteTime": {
     "end_time": "2020-05-23T18:56:58.177458Z",
     "start_time": "2020-05-23T18:56:58.127005Z"
    }
   },
   "outputs": [],
   "source": [
    "class Vertex:\n",
    "    def __init__(self, name=None):\n",
    "        self.__name = name\n",
    "\n",
    "    @property\n",
    "    def name(self):\n",
    "        return self.__name\n",
    "\n",
    "    def __str__(self):\n",
    "        return f\"{self.__name}\"\n",
    "\n",
    "    def __repr__(self):\n",
    "        return str(self)\n",
    "\n",
    "\n",
    "class Edge:\n",
    "    def __init__(self, origin, destination, name=None):\n",
    "        self.__name = name\n",
    "        self.__vertices = (origin, destination)\n",
    "\n",
    "    @property\n",
    "    def name(self):\n",
    "        return self.__name\n",
    "\n",
    "    @property\n",
    "    def origin(self):\n",
    "        return self.__vertices[0]\n",
    "\n",
    "    @property\n",
    "    def destination(self):\n",
    "        return self.__vertices[1]\n",
    "\n",
    "    def endpoints(self):\n",
    "        return self.__vertices\n",
    "\n",
    "    def opposite(self, v):\n",
    "        return next(i for i in self.__vertices if i is not v)\n",
    "\n",
    "    def __str__(self):\n",
    "        return f\"{self.__name}: ({self.__vertices[0].name} -- {self.__vertices[1].name})\"\n",
    "\n",
    "    def __repr__(self):\n",
    "        return str(self)\n",
    "\n",
    "\n",
    "class Graph:\n",
    "    def __init__(self):\n",
    "        self.__vertices = {}\n",
    "\n",
    "    def insert_vertex(self, v):\n",
    "        self.__vertices[v] = {}\n",
    "\n",
    "    def vertices(self):\n",
    "        return self.__vertices.keys()\n",
    "\n",
    "    def vertex_count(self):\n",
    "        return len(self.__vertices)\n",
    "\n",
    "    def insert_edge(self, e):\n",
    "        self.__vertices[e.origin][e.destination] = e\n",
    "        self.__vertices[e.destination][e.origin] = e\n",
    "\n",
    "    def edges(self):\n",
    "        return {\n",
    "            edge\n",
    "            for children in self.__vertices.values()\n",
    "            for edge in children.values()\n",
    "        }\n",
    "\n",
    "    def edge_count(self):\n",
    "        return len(self.edges())\n",
    "\n",
    "    def get_edge(self, u, v):\n",
    "        res = None\n",
    "        if u in self.__vertices:\n",
    "            if v in self.__vertices[u]:\n",
    "                res = self.__vertices[u][v]\n",
    "        return res\n",
    "\n",
    "    def degree(self, v):\n",
    "        # print(self.__vertices[v].keys())\n",
    "        return len(self.__vertices[v].keys())\n",
    "\n",
    "    def remove_vertex(self, v):\n",
    "        # remove connections to this vertex\n",
    "        for o in self.__vertices[v]:\n",
    "            del self.__vertices[o][v]\n",
    "        del self.__vertices[v]\n",
    "\n",
    "    def remove_edge(self, e):\n",
    "        del self.__vertices[e.origin][e.destination]\n",
    "        del self.__vertices[e.destination][e.origin]"
   ]
  },
  {
   "cell_type": "markdown",
   "metadata": {},
   "source": [
    "Para representação de um vértice do tipo estação foi criada uma classe `Station` que estende a classe `Vertex`, acrescentando as características necessárias neste caso: id, latitude e longitude da estação."
   ]
  },
  {
   "cell_type": "code",
   "execution_count": 45,
   "metadata": {
    "ExecuteTime": {
     "end_time": "2020-05-23T18:56:58.207202Z",
     "start_time": "2020-05-23T18:56:58.183679Z"
    }
   },
   "outputs": [],
   "source": [
    "class Station(Vertex):\n",
    "    def __init__(self, id, name, latitude, longitude):\n",
    "        super().__init__(name=name)\n",
    "        self.__id = id\n",
    "        self.__latitude = latitude\n",
    "        self.__longitude = longitude\n",
    "\n",
    "    @property\n",
    "    def id(self):\n",
    "        return self.__id\n",
    "\n",
    "    @property\n",
    "    def latitude(self):\n",
    "        return self.__latitude\n",
    "\n",
    "    @property\n",
    "    def longitude(self):\n",
    "        return self.__longitude\n",
    "\n",
    "    def __str__(self):\n",
    "        return f\"[{self.id}] {self.name} ({self.latitude}, {self.longitude})\"\n",
    "\n",
    "    def __repr__(self):\n",
    "        return str(self)"
   ]
  },
  {
   "cell_type": "markdown",
   "metadata": {},
   "source": [
    "## Criando o grafo\n",
    "A intenção é ler os ficheiros de dados de estações e suas conexões, e com eles criar um grafo, para facilitar a sua análise posterior.\n",
    "Como estrutura auxiliar, usamos um dicionário, onde vão sendo colocadas as estações criadas a partir dos dados, para facilitar posteriormente a criação das arestas / conexões.\n",
    "\n",
    "De forma análoga, é usado um dicionário para agregar as arestas criadas a partir dos ficheiros de dados, como forma expedita de garantir a eliminação de conexões \"repetidas\", tal como vêm nos ficheiros de dados. Só depois de colocadas as conexões no dicionário auxiliar é que são adicionadas ao grafo."
   ]
  },
  {
   "cell_type": "code",
   "execution_count": 46,
   "metadata": {
    "ExecuteTime": {
     "end_time": "2020-05-23T20:52:27.256003Z",
     "start_time": "2020-05-23T20:52:27.200550Z"
    }
   },
   "outputs": [
    {
     "name": "stdout",
     "output_type": "stream",
     "text": [
      "Stations:  302\n",
      "Connections:  349\n"
     ]
    }
   ],
   "source": [
    "gr = Graph()\n",
    "\n",
    "train_stations = {}  # TODO Use BST\n",
    "for ts in df_stations.itertuples():\n",
    "    s = Station(id=ts.id,\n",
    "                name=ts.name,\n",
    "                latitude=ts.latitude,\n",
    "                longitude=ts.longitude)\n",
    "    gr.insert_vertex(s)\n",
    "    train_stations[s.id] = s\n",
    "\n",
    "connections = {}\n",
    "for cn in df_connections.itertuples():\n",
    "    key1 = (cn.station1, cn.station2)\n",
    "    key2 = (cn.station2, cn.station1)\n",
    "    if key1 not in connections.keys() and key2 not in connections.keys():\n",
    "        c = Edge(train_stations[cn.station1], train_stations[cn.station2])\n",
    "        connections[key1] = c\n",
    "\n",
    "for e in connections.values():\n",
    "    gr.insert_edge(e)\n",
    "\n",
    "print(\"Stations: \", gr.vertex_count())\n",
    "print(\"Connections: \", gr.edge_count())"
   ]
  },
  {
   "cell_type": "markdown",
   "metadata": {},
   "source": [
    "Para facilitar a apreensão do trabalho executado, foi incluida uma rotina de visualização:"
   ]
  },
  {
   "cell_type": "code",
   "execution_count": 47,
   "metadata": {},
   "outputs": [],
   "source": [
    "plt.rcParams['figure.dpi'] = 150\n",
    "\n",
    "def plot_edges(lst, color=\"xkcd:royal blue\", marker=\"o\", markersize=1, linewidthwidth=0.5, showgraph=False):\n",
    "    for e in lst:\n",
    "        xs = [e.origin.longitude, e.destination.longitude]\n",
    "        ys = [e.origin.latitude*1.26, e.destination.latitude*1.26]\n",
    "        plt.plot(xs, ys, c=color, marker=marker, markersize=markersize, linewidth=linewidthwidth)\n",
    "        # Labels\n",
    "        # ls = [e.origin.name, e.destination.name]\n",
    "        # plt.annotate(ls[0], (xs[0], ys[0]), size='xx-small')\n",
    "        # plt.annotate(ls[1], (xs[1], ys[1]), size='xx-small')\n",
    "    if showgraph:\n",
    "        plt.axis('off')\n",
    "        plt.show()"
   ]
  },
  {
   "cell_type": "markdown",
   "metadata": {},
   "source": [
    "Esta rotina permite visualizar o mapa a partir da lista de arestas. Dá a possibilidade de alterar a cor das linhas e pontos usados, a sua espessura e o tipo de marcador usado para as estações. O parametro `showgraph` permite chamar reetidas vezes a rotina (por exemplo, para adicionar vários grafos ao mesmo mapa) e controlar quando finalmente o resultado é apresentado.\n",
    "\n",
    "Utilizando para visualizar o grafo da rede inteira:"
   ]
  },
  {
   "cell_type": "code",
   "execution_count": 48,
   "metadata": {},
   "outputs": [
    {
     "data": {
      "image/png": "[encoded data removed]",
      "text/plain": [
       "<Figure size 900x600 with 1 Axes>"
      ]
     },
     "metadata": {
      "needs_background": "light"
     },
     "output_type": "display_data"
    }
   ],
   "source": [
    "plot_edges(gr.edges(), showgraph=True)"
   ]
  },
  {
   "cell_type": "markdown",
   "metadata": {},
   "source": [
    "O próximo passo é determinar a matriz Laplaciana e obter o segundo vector próprio. \n",
    "\n",
    "A determinação da matriz laplaciana é simples: construir uma matriz simétrica com o número de estações/vétrices, em que nas interceções de duas estações que estão ligados está o valor `-1` e nas interceções da estação consigo própria está o grau da estação (o número de arestas incidentes ou de conexões).\n",
    "É usada uma lista auxiliar das estações / vértices, para poder referir-se à estação pela sua ordem, tal como na matriz.\n",
    "\n",
    "Uma vez construida a matriz, o módulo `linalg` da livraria Numpy providencia a função `eig()` que devolve um array de \"_eigenvalues_\" (valores próprios ou característicos) e outro dos correspondentes vetores próprios (\"_eigenvectors_\"). Uma vez obtidos, é necessário descobrir qual é o segundo valor próprio, ordenando o array por ordem crescente. Ao obter a posição do segundo valor próprio fica determinado qual é o correspondente vetor próprio, que será usado na sequência do algoritmo para determinar o corte do grafo em dois."
   ]
  },
  {
   "cell_type": "code",
   "execution_count": 53,
   "metadata": {
    "ExecuteTime": {
     "end_time": "2020-05-24T10:36:36.936030Z",
     "start_time": "2020-05-24T10:36:36.536423Z"
    }
   },
   "outputs": [],
   "source": [
    "m_L = np.zeros([gr.vertex_count(), gr.vertex_count()], int)\n",
    "vertices = list(gr.vertices())\n",
    "\n",
    "for i in range(m_L.shape[0]):\n",
    "    for j in range(m_L.shape[1]):\n",
    "        if i == j:\n",
    "            m_L[i, j] = gr.degree(vertices[i])\n",
    "        elif gr.get_edge(vertices[i], vertices[j]):\n",
    "            m_L[i, j] = -1\n",
    "\n",
    "# Get EigenVector\n",
    "eigenvalues, v = np.linalg.eig(m_L)\n",
    "eigen_index = np.argsort(eigenvalues)[1]\n",
    "ev2nd = v[:, eigen_index]"
   ]
  },
  {
   "cell_type": "markdown",
   "metadata": {},
   "source": [
    "Seguindo na aplicação do algoritmo, usamos o vetor próprio para separar o grafo em dois, resultado daí os grafos _G1_ e _G2_. O critério de separação é o valor do vetor próprio para a posição daquela estação / vértice ser ou não inferior a zero."
   ]
  },
  {
   "cell_type": "code",
   "execution_count": 50,
   "metadata": {
    "ExecuteTime": {
     "end_time": "2020-05-23T19:17:25.241488Z",
     "start_time": "2020-05-23T19:17:25.225832Z"
    }
   },
   "outputs": [
    {
     "name": "stdout",
     "output_type": "stream",
     "text": [
      "G1:  130 stations\n",
      "G2:  172 stations\n"
     ]
    }
   ],
   "source": [
    "g1 = Graph()\n",
    "g2 = Graph()\n",
    "\n",
    "for i in range(ev2nd.size):\n",
    "    if ev2nd[i] < 0:\n",
    "        g1.insert_vertex(vertices[i])\n",
    "    else:\n",
    "        g2.insert_vertex(vertices[i])\n",
    "\n",
    "g1_count = g1.vertex_count()\n",
    "g2_count = g2.vertex_count()\n",
    "\n",
    "print(\"G1: \", g1_count, \"stations\")\n",
    "print(\"G2: \", g2_count, \"stations\")"
   ]
  },
  {
   "cell_type": "markdown",
   "metadata": {
    "variables": {
     "g1_count": "151",
     "g2_count": "151"
    }
   },
   "source": [
    "Obtemos dois grafos separados: G1 contendo 130 vértices / estações  e G2 contendo 172 vértices / estações."
   ]
  },
  {
   "cell_type": "markdown",
   "metadata": {},
   "source": [
    "O próximo passo é verificar o número de cortes que são efetuados para esta divisão do grafo inicial. Para isso são tomados todas as arestas / conexões do grafo inicial e é verificado se ambos os vértices incidentes estão dentro do mesmo _cluster_ após a divisão (G1 ou G2) - caso em que a aresta é imediatamente associados a esse grafo - ou se os seus vértices incidentes estão em _clusters_ separados - caso em que é considerada uma aresta de corte."
   ]
  },
  {
   "cell_type": "code",
   "execution_count": 54,
   "metadata": {
    "ExecuteTime": {
     "end_time": "2020-05-23T19:14:22.064161Z",
     "start_time": "2020-05-23T19:14:21.523883Z"
    }
   },
   "outputs": [
    {
     "name": "stdout",
     "output_type": "stream",
     "text": [
      "Number of connections in G1: 145\n",
      "Number of connections in G2: 196\n",
      "Number of cuts: 8\n",
      "Minimum Cut Ratio: 0.00035778175313059033\n"
     ]
    }
   ],
   "source": [
    "# Edges with one vertex/station in g1 and another one in g2\n",
    "e_to_cut = []\n",
    "for e in gr.edges():\n",
    "    if all(ver in g1.vertices() for ver in e.endpoints()):\n",
    "        g1.insert_edge(e)\n",
    "    elif all(ver in g2.vertices() for ver in e.endpoints()):\n",
    "        g2.insert_edge(e)\n",
    "    else:\n",
    "        e_to_cut.append(e)\n",
    "\n",
    "print(\"Number of connections in G1:\", g1.edge_count())\n",
    "print(\"Number of connections in G2:\", g2.edge_count())\n",
    "print(\"Number of cuts:\", len(e_to_cut))\n",
    "print(\"Minimum Cut Ratio:\", len(e_to_cut) / (g1_count * g2_count))\n"
   ]
  },
  {
   "cell_type": "markdown",
   "metadata": {},
   "source": [
    "Visto que construimos os grafos das redes separadas, podemos visualizar a rede e os cortes. Usamo a seguir o azul para G1, o verde para G2 e o vermelho para os cortes."
   ]
  },
  {
   "cell_type": "code",
   "execution_count": 55,
   "metadata": {
    "ExecuteTime": {
     "end_time": "2020-05-23T22:10:43.654934Z",
     "start_time": "2020-05-23T22:10:40.493116Z"
    },
    "scrolled": true
   },
   "outputs": [
    {
     "data": {
      "image/png": "[encoded data removed]",
      "text/plain": [
       "<Figure size 900x600 with 1 Axes>"
      ]
     },
     "metadata": {
      "needs_background": "light"
     },
     "output_type": "display_data"
    }
   ],
   "source": [
    "plot_edges(g1.edges(), color=\"xkcd:azure\")\n",
    "plot_edges(g2.edges(), color=\"xkcd:aquamarine\")\n",
    "plot_edges(e_to_cut, color=\"xkcd:coral\", marker=\"+\", markersize=0.9, showgraph=True)"
   ]
  },
  {
   "cell_type": "markdown",
   "metadata": {},
   "source": [
    "Os cortes efetuados:"
   ]
  },
  {
   "cell_type": "code",
   "execution_count": 56,
   "metadata": {},
   "outputs": [
    {
     "name": "stdout",
     "output_type": "stream",
     "text": [
      "None: (Green Park -- Westminster)\n",
      "None: (Euston Square -- King's Cross St. Pancras)\n",
      "None: (Oxford Circus -- Tottenham Court Road)\n",
      "None: (St. James's Park -- Victoria)\n",
      "None: (Pimlico -- Victoria)\n",
      "None: (Oxford Circus -- Warren Street)\n",
      "None: (Green Park -- Picadilly Circus)\n",
      "None: (Oxford Circus -- Picadilly Circus)\n"
     ]
    }
   ],
   "source": [
    "for e in e_to_cut:\n",
    "    print(e)"
   ]
  },
  {
   "cell_type": "markdown",
   "metadata": {},
   "source": [
    "# Resultados\n",
    "\n",
    "Através deste algoritmo conseguimos obter duas redes completamente ligadas, com apenas 8 cortes. O resultado pode ser verificado no mapa da rede, onde estão assinalados os cortes efetuados.\n",
    "\n",
    "![tube-map.gif - mapa da rede de metro de Londres com os cortes assinalados](tube-map.gif)\n",
    "Nota: a rede de metro não inclui as linhas de comboio representadas a duas cores no mapa."
   ]
  },
  {
   "cell_type": "markdown",
   "metadata": {},
   "source": [
    "# Bibliografia"
   ]
  },
  {
   "cell_type": "code",
   "execution_count": null,
   "metadata": {},
   "outputs": [],
   "source": []
  }
 ],
 "metadata": {
  "kernelspec": {
   "display_name": "'Python Interactive'",
   "language": "python",
   "name": "8dd54f8a-fcef-4b13-af62-2708462d66b3"
  },
  "language_info": {
   "codemirror_mode": {
    "name": "ipython",
    "version": 3
   },
   "file_extension": ".py",
   "mimetype": "text/x-python",
   "name": "python",
   "nbconvert_exporter": "python",
   "pygments_lexer": "ipython3",
   "version": "3.7.3"
  },
  "toc": {
   "base_numbering": 1,
   "nav_menu": {},
   "number_sections": true,
   "sideBar": true,
   "skip_h1_title": false,
   "title_cell": "Table of Contents",
   "title_sidebar": "Contents",
   "toc_cell": false,
   "toc_position": {
    "height": "calc(100% - 180px)",
    "left": "10px",
    "top": "150px",
    "width": "257.719px"
   },
   "toc_section_display": true,
   "toc_window_display": true
  },
  "varInspector": {
   "cols": {
    "lenName": 16,
    "lenType": 16,
    "lenVar": 40
   },
   "kernels_config": {
    "python": {
     "delete_cmd_postfix": "",
     "delete_cmd_prefix": "del ",
     "library": "var_list.py",
     "varRefreshCmd": "print(var_dic_list())"
    },
    "r": {
     "delete_cmd_postfix": ") ",
     "delete_cmd_prefix": "rm(",
     "library": "var_list.r",
     "varRefreshCmd": "cat(var_dic_list()) "
    }
   },
   "position": {
    "height": "515.667px",
    "left": "884.667px",
    "right": "20px",
    "top": "119px",
    "width": "370px"
   },
   "types_to_exclude": [
    "module",
    "function",
    "builtin_function_or_method",
    "instance",
    "_Feature"
   ],
   "window_display": false
  }
 },
 "nbformat": 4,
 "nbformat_minor": 4
}
