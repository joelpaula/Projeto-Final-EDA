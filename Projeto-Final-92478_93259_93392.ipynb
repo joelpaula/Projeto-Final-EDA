{
 "cells": [
  {
   "cell_type": "markdown",
   "metadata": {},
   "source": [
    "# Projeto-Final-EDA\n",
    "\n",
    ">**Unidade curricular | Course Unit** Estrutura de Dados e Algoritmos | Data Structures and Algorithms\n",
    ">\n",
    ">**Professor** Luis Ramada Pereira\n",
    ">\n",
    ">**Curso|Course** LCD-PL -- **Ano letivo|Year** 2019/2020\n",
    ">\n",
    ">**Autores|Authors**\n",
    ">\n",
    ">     | Catarina Castanheira | nº 92478 |\n",
    ">     | João Martins         | nº 93259 |\n",
    ">     | Joel Paula           | nº 93393 |\n",
    ">\n",
    ">\n",
    "> 27-05-2020"
   ]
  },
  {
   "cell_type": "code",
   "execution_count": null,
   "metadata": {},
   "outputs": [],
   "source": []
  }
 ],
 "metadata": {
  "language_info": {
   "codemirror_mode": {
    "name": "ipython",
    "version": 3
   },
   "file_extension": ".py",
   "mimetype": "text/x-python",
   "name": "python",
   "nbconvert_exporter": "python",
   "pygments_lexer": "ipython3",
   "version": "3.7.3-final"
  },
  "orig_nbformat": 2,
  "kernelspec": {
   "name": "8dd54f8a-fcef-4b13-af62-2708462d66b3",
   "display_name": "'Python Interactive'"
  }
 },
 "nbformat": 4,
 "nbformat_minor": 2
}